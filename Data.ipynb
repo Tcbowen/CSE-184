{
 "cells": [
  {
   "cell_type": "code",
   "execution_count": 249,
   "metadata": {},
   "outputs": [],
   "source": [
    "import pandas as pd\n",
    "import matplotlib.pyplot as plt\n",
    "import numpy as np\n",
    "import seaborn as sns"
   ]
  },
  {
   "cell_type": "code",
   "execution_count": 250,
   "metadata": {},
   "outputs": [],
   "source": [
    "# Opens all the csv files for all the schools"
   ]
  },
  {
   "cell_type": "code",
   "execution_count": 251,
   "metadata": {},
   "outputs": [],
   "source": [
    "ucsc_files = open('./184_project/UCSC files.csv')\n",
    "df_ucsc = pd.read_csv(ucsc_files)\n",
    "\n",
    "uci_files = open('./184_project/UCI/UCI files.csv')\n",
    "df_uci = pd.read_csv(uci_files)\n",
    "\n",
    "sdsu_files = open('./184_project/SDSU/SDSU files.csv')\n",
    "df_sdsu = pd.read_csv(sdsu_files)\n",
    "\n",
    "chico_files = open('./184_project/CHICO/CHICO files.csv')\n",
    "df_chico = pd.read_csv(chico_files)\n",
    "\n",
    "sfsu_files = open('./184_project/SF State/SF_State_Data.csv')\n",
    "df_sfsu = pd.read_csv(sfsu_files)\n",
    "\n",
    "harveymud_files = open('./184_project/Harvey_files.csv')\n",
    "df_harvey = pd.read_csv(harveymud_files)\n",
    "\n",
    "panoma_files = open('./184_project/Pomona_files.csv')\n",
    "df_panoma = pd.read_csv(panoma_files)\n"
   ]
  },
  {
   "cell_type": "code",
   "execution_count": 252,
   "metadata": {},
   "outputs": [],
   "source": [
    "#Goes through all the schools and cleans up the term to season + year"
   ]
  },
  {
   "cell_type": "code",
   "execution_count": 253,
   "metadata": {},
   "outputs": [],
   "source": [
    "for row_num, i in enumerate(df_harvey.iloc[:,3]):\n",
    "    term_split = i.split(' ')\n",
    "    if len(term_split[1]) < 4:\n",
    "        year_last = term_split[1].split('0')\n",
    "        term_split[1] = '200' + year_last[1]\n",
    "    df_harvey.at[row_num, 'term'] = term_split[0] +' ' + term_split[1]\n"
   ]
  },
  {
   "cell_type": "code",
   "execution_count": 254,
   "metadata": {},
   "outputs": [],
   "source": [
    "for row_num, i in enumerate(df_panoma.iloc[:,3]):\n",
    "    term_split = i.split(' ')\n",
    "    if len(term_split[1]) < 4:\n",
    "        year_last = term_split[1].split('0')\n",
    "        term_split[1] = '200' + year_last[1]\n",
    "    df_panoma.at[row_num, 'term'] = term_split[0] + ' ' + term_split[1]\n"
   ]
  },
  {
   "cell_type": "code",
   "execution_count": 255,
   "metadata": {},
   "outputs": [],
   "source": [
    "for row_num, i in enumerate(df_chico.iloc[:,3]):\n",
    "    term_split = i.split('2')\n",
    "    if term_split[0] == 'fa':\n",
    "        term_split[0] = 'Fall'\n",
    "        term_split[1] = '2' + term_split[1]\n",
    "    elif term_split[0] == 'spr':\n",
    "        term_split[0] = 'Spring'\n",
    "        term_split[1] = '2' + term_split[1]\n",
    "    if len(term_split) == 3:\n",
    "        term_split = [term_split[0], term_split[1] + '2']\n",
    "    season_year = term_split[0] + ' ' + term_split[1]\n",
    "    df_chico.at[row_num, 'term'] = season_year.upper()"
   ]
  },
  {
   "cell_type": "code",
   "execution_count": 256,
   "metadata": {},
   "outputs": [],
   "source": [
    "for row_num, i in enumerate(df_sfsu.iloc[:,1]):\n",
    "    term_split = i.split(' ')\n",
    "    season_year = term_split[0] + ' ' + term_split[1]\n",
    "    df_sfsu.at[row_num, 'term'] = season_year.upper()\n"
   ]
  },
  {
   "cell_type": "code",
   "execution_count": 257,
   "metadata": {},
   "outputs": [],
   "source": [
    "for row_num, i in enumerate(df_sdsu.iloc[:,3]):\n",
    "    term_split = i.split(' ')\n",
    "    if len(term_split[0]) == 1:\n",
    "        term_split[0] = '200' + term_split[0]\n",
    "    else:\n",
    "        term_split[0] = '20' + term_split[0]\n",
    "    df_sdsu.at[row_num, 'term'] = (term_split[1] + ' ' + term_split[0]).upper()\n"
   ]
  },
  {
   "cell_type": "code",
   "execution_count": 258,
   "metadata": {},
   "outputs": [],
   "source": [
    "for row_num, i in enumerate(df_uci.iloc[:,3]):\n",
    "    term_split = i.split(' ')\n",
    "    df_uci.at[row_num, 'term'] = (term_split[1] + ' ' + term_split[0]).upper()\n"
   ]
  },
  {
   "cell_type": "code",
   "execution_count": 259,
   "metadata": {},
   "outputs": [],
   "source": [
    "for row_num, i in enumerate(df_ucsc.iloc[:, 3]):\n",
    "    term_split = i.split(' ')\n",
    "    if len(term_split[1]) < 4:\n",
    "        year = term_split[1].split('0')\n",
    "        new_year = year[0] + '00' + year[1]\n",
    "        term_split[1] = new_year\n",
    "    df_ucsc.at[row_num, 'term'] = (term_split[0] + term_split[1]).upper()\n"
   ]
  },
  {
   "cell_type": "code",
   "execution_count": 260,
   "metadata": {},
   "outputs": [],
   "source": [
    "# Goes through all the data and adds the percentages of class to the end of the dataframe"
   ]
  },
  {
   "cell_type": "code",
   "execution_count": 261,
   "metadata": {},
   "outputs": [],
   "source": [
    "def add_percentage(self, num_enroll, total_size):\n",
    "    self['Percentage'] = 0.\n",
    "    for row_num, i in enumerate(self.iloc[:, num_enroll]):\n",
    "        try:\n",
    "            float(self.iloc[row_num, total_size])\n",
    "        except:\n",
    "            self.iloc[row_num,total_size] = self.iloc[row_num, total_size].split('W')[0]\n",
    "        if float(self.iloc[row_num, total_size]) == 0:\n",
    "            self.iloc[row_num, total_size] = self.iloc[row_num, num_enroll]\n",
    "        if float(self.iloc[row_num, total_size]) == 0 and float(self.iloc[row_num, num_enroll]) ==0:\n",
    "            self.iloc[row_num, total_size ] = 1;\n",
    "        percentage = float(self.iloc[row_num, num_enroll])/float(self.iloc[row_num,total_size])\n",
    "        if percentage > 1:\n",
    "            percentage = 1\n",
    "        if percentage <= 0:\n",
    "            percentage = None\n",
    "        self.at[row_num, 'Percentage'] = percentage\n",
    "    return self"
   ]
  },
  {
   "cell_type": "code",
   "execution_count": 262,
   "metadata": {},
   "outputs": [],
   "source": [
    "def clean_nan(self):\n",
    "    self = self.replace(0.,np.NaN)\n",
    "    self = self.dropna()\n",
    "    return self"
   ]
  },
  {
   "cell_type": "code",
   "execution_count": 263,
   "metadata": {},
   "outputs": [],
   "source": [
    "def clean_class_nums(self):\n",
    "    for row_num,i in enumerate(self.iloc[:,2]):\n",
    "        cs_classes = i.split(' ')\n",
    "        self.iloc[row_num,2] = cs_classes[0].strip()\n",
    "    return self"
   ]
  },
  {
   "cell_type": "code",
   "execution_count": 264,
   "metadata": {},
   "outputs": [],
   "source": [
    "add_percentage(df_chico, 0, 1)\n",
    "add_percentage(df_sfsu, 3, 4)\n",
    "add_percentage(df_ucsc, 0, 1)\n",
    "add_percentage(df_sdsu, 0, 1)\n",
    "add_percentage(df_uci, 0, 1)\n",
    "add_percentage(df_harvey, 0, 1)\n",
    "add_percentage(df_panoma,0, 1)\n",
    "\n",
    "col = ['num_people_enrolled', 'total_class_size', 'class_number', 'term', 'Prof Name', 'Percentage', 'Unnamed: 0']\n",
    "df_sfsu = df_sfsu.loc[:,col]\n",
    "df_sfsu.drop('Unnamed: 0', axis = 1, inplace = True)\n",
    "df_sfsu.columns = ['num_people_enrolled', 'total_class_size', 'class_number', 'term' ,'professor', 'Percentage']\n",
    "\n",
    "df_chico = clean_nan(df_chico)\n",
    "df_sdsu= clean_nan(df_sdsu)\n",
    "df_ucsc = clean_nan(df_ucsc)\n",
    "df_uci = clean_nan(df_uci)\n",
    "df_sfsu = clean_nan(df_sfsu)\n",
    "df_panoma = clean_nan(df_panoma)\n",
    "df_harvey = clean_nan(df_harvey)\n",
    "\n",
    "df_panoma = clean_class_nums(df_panoma)\n",
    "df_harvey = clean_class_nums(df_harvey)"
   ]
  },
  {
   "cell_type": "code",
   "execution_count": 265,
   "metadata": {},
   "outputs": [],
   "source": [
    "# Splits the data into percentages for each term, so it makes it easier to plot"
   ]
  },
  {
   "cell_type": "code",
   "execution_count": 266,
   "metadata": {},
   "outputs": [],
   "source": [
    "def getPercentages(self, term_location):\n",
    "    unique_vals = []\n",
    "    newData = []\n",
    "    newTerm = []\n",
    "    for i in self.iloc[:,term_location]:\n",
    "        if i not in unique_vals:\n",
    "            unique_vals.append(i)\n",
    "    newTerm = list(unique_vals)\n",
    "    for i in newTerm:\n",
    "        newData.append(self.Percentage[self.term == i])\n",
    "    return newData, newTerm"
   ]
  },
  {
   "cell_type": "code",
   "execution_count": 267,
   "metadata": {},
   "outputs": [],
   "source": [
    "# Goes through each term and sorts the term with accordance to the data"
   ]
  },
  {
   "cell_type": "code",
   "execution_count": 268,
   "metadata": {},
   "outputs": [],
   "source": [
    "def sort_term(term, data):\n",
    "    to_sort = []\n",
    "    for i in term:\n",
    "        if 'FALL' in i:\n",
    "            split = i.replace('FALL', '')\n",
    "            split = split + '2'\n",
    "        if 'SPRING' in i:\n",
    "            split = i.replace('SPRING', '')\n",
    "            split = split+'3'\n",
    "        if 'WINTER' in i:\n",
    "            split = i.replace('WINTER', '')\n",
    "            split = split + '1'\n",
    "        to_sort.append((int(int(split)%1000)))\n",
    "    _, term, data = zip(*sorted(zip(to_sort, term, data)))\n",
    "    return term, data"
   ]
  },
  {
   "cell_type": "code",
   "execution_count": 269,
   "metadata": {},
   "outputs": [],
   "source": [
    "# newData, newTerm = getPercentages(df_ucsc, 3)\n",
    "# newTerm, newData = sort_term(newTerm, newData)\n",
    "# plt.boxplot(newData)\n",
    "# int_list = list(range(1,len(newTerm)))\n",
    "# plt.xticks(int_list, newTerm)\n",
    "# locs, labels = plt.xticks()\n",
    "# plt.setp(labels, rotation=45)\n",
    "# plt.gcf().set_size_inches((20,20))\n"
   ]
  },
  {
   "cell_type": "code",
   "execution_count": 270,
   "metadata": {},
   "outputs": [],
   "source": [
    "# newData, newTerm = getPercentages(df_uci, 3)\n",
    "# newTerm, newData = sort_term(newTerm, newData)\n",
    "# plt.boxplot(newData)\n",
    "# int_list = list(range(1,len(newTerm)))\n",
    "# plt.xticks(int_list, newTerm)\n",
    "# locs, labels = plt.xticks()\n",
    "# plt.setp(labels, rotation=45)\n",
    "# plt.gcf().set_size_inches((20,20))\n"
   ]
  },
  {
   "cell_type": "code",
   "execution_count": 271,
   "metadata": {},
   "outputs": [],
   "source": [
    "# newData, newTerm = getPercentages(df_sdsu, 3)\n",
    "# newTerm, newData = sort_term(newTerm, newData)\n",
    "# plt.boxplot(newData)\n",
    "# int_list = list(range(1,len(newTerm)))\n",
    "# plt.xticks(int_list, newTerm)\n",
    "# locs, labels = plt.xticks()\n",
    "# plt.setp(labels, rotation=45)\n",
    "# plt.gcf().set_size_inches((20,20))\n"
   ]
  },
  {
   "cell_type": "code",
   "execution_count": 272,
   "metadata": {},
   "outputs": [],
   "source": [
    "# newData, newTerm = getPercentages(df_sfsu, 3)\n",
    "# newTerm, newData = sort_term(newTerm, newData)\n",
    "# plt.boxplot(newData)\n",
    "# int_list = list(range(1,len(newTerm)))\n",
    "# plt.xticks(int_list, newTerm)\n",
    "# locs, labels = plt.xticks()\n",
    "# plt.setp(labels, rotation=45)\n",
    "# plt.gcf().set_size_inches((20,20))"
   ]
  },
  {
   "cell_type": "code",
   "execution_count": 273,
   "metadata": {},
   "outputs": [],
   "source": [
    "# newData, newTerm = getPercentages(df_harvey, 3)\n",
    "# newTerm, newData = sort_term(newTerm, newData)\n",
    "# plt.boxplot(newData)\n",
    "# int_list = list(range(1,len(newTerm)))\n",
    "# plt.xticks(int_list, newTerm)\n",
    "# locs, labels = plt.xticks()\n",
    "# plt.setp(labels, rotation=45)\n",
    "# plt.gcf().set_size_inches((20,20))"
   ]
  },
  {
   "cell_type": "code",
   "execution_count": 274,
   "metadata": {},
   "outputs": [],
   "source": [
    "# newData, newTerm = getPercentages(df_panoma, 3)\n",
    "# newTerm, newData = sort_term(newTerm, newData)\n",
    "# plt.boxplot(newData)\n",
    "# int_list = list(range(1,len(newTerm)))\n",
    "# plt.xticks(int_list, newTerm)\n",
    "# locs, labels = plt.xticks()\n",
    "# plt.setp(labels, rotation=45)\n",
    "# plt.gcf().set_size_inches((20,20))"
   ]
  },
  {
   "cell_type": "code",
   "execution_count": 275,
   "metadata": {},
   "outputs": [],
   "source": [
    "new_data, new_term = getPercentages(df_panoma, 3)\n",
    "new_term_p, new_data_p = sort_term(newTerm, newData)\n",
    "\n",
    "new_data, new_term = getPercentages(df_harvey, 3)\n",
    "new_term_harvey, newData_harvey = sort_term(newTerm, newData)\n",
    "\n",
    "new_data, new_term = getPercentages(df_uci, 3)\n",
    "new_term_uci, new_data_uci = sort_term(newTerm, newData)\n",
    "\n",
    "new_data, new_term = getPercentages(df_sfsu, 3)\n",
    "new_term_sfsu, new_data_sfsu = sort_term(newTerm, newData)\n",
    "\n",
    "new_data, new_term = getPercentages(df_sdsu, 3)\n",
    "new_term_sdsu, new_data_sdsu = sort_term(newTerm, newData)\n",
    "\n",
    "new_data, new_term = getPercentages(df_ucsc, 3)\n",
    "new_term_ucsc, new_data_ucsc = sort_term(newTerm, newData)\n"
   ]
  },
  {
   "cell_type": "code",
   "execution_count": 276,
   "metadata": {},
   "outputs": [
    {
     "data": {
      "image/png": "[encoded data removed]",
      "text/plain": [
       "<Figure size 432x288 with 6 Axes>"
      ]
     },
     "metadata": {
      "needs_background": "light"
     },
     "output_type": "display_data"
    }
   ],
   "source": [
    "fig, axes = plt.subplots(2,3)\n"
   ]
  },
  {
   "cell_type": "code",
   "execution_count": 277,
   "metadata": {},
   "outputs": [
    {
     "name": "stdout",
     "output_type": "stream",
     "text": [
      "      num_people_enrolled  total_class_size class_number         term  \\\n",
      "0                    44.0                99      CSCI005    FALL 2004   \n",
      "1                    39.0                99      CSCI005    FALL 2004   \n",
      "2                    39.0                99      CSCI005    FALL 2004   \n",
      "3                    41.0                99      CSCI005    FALL 2004   \n",
      "4                   163.0               400      CSCI005    FALL 2004   \n",
      "5                     7.0                16      CSCI050    FALL 2004   \n",
      "6                    14.0                30      CSCI051    FALL 2004   \n",
      "7                    13.0                30      CSCI051    FALL 2004   \n",
      "8                    10.0                30      CSCI052    FALL 2004   \n",
      "9                    36.0                42      CSCI060    FALL 2004   \n",
      "10                   35.0                42      CSCI060    FALL 2004   \n",
      "11                   17.0                20      CSCI070    FALL 2004   \n",
      "12                   11.0                20      CSCI070    FALL 2004   \n",
      "13                   18.0                44      CSCI081    FALL 2004   \n",
      "14                   17.0                20      CSCI105    FALL 2004   \n",
      "15                   11.0                20      CSCI105    FALL 2004   \n",
      "16                   19.0                20      CSCI105    FALL 2004   \n",
      "17                    9.0                20      CSCI105    FALL 2004   \n",
      "18                   18.0                18      CSCI121    FALL 2004   \n",
      "19                   13.0                20      CSCI125    FALL 2004   \n",
      "20                   11.0                20      CSCI125    FALL 2004   \n",
      "21                    9.0                20      CSCI131    FALL 2004   \n",
      "22                   14.0                20      CSCI131    FALL 2004   \n",
      "23                   17.0                35      CSCI131    FALL 2004   \n",
      "24                    6.0                35      CSCI131    FALL 2004   \n",
      "25                   15.0                18      CSCI140    FALL 2004   \n",
      "26                   16.0                24      CSCI151    FALL 2004   \n",
      "27                    8.0                24      CSCI152    FALL 2004   \n",
      "28                   12.0                20      CSCI155    FALL 2004   \n",
      "29                   11.0                20      CSCI155    FALL 2004   \n",
      "...                   ...               ...          ...          ...   \n",
      "1190                 23.0                24      CSCI124  SPRING 2019   \n",
      "1191                 27.0                30      CSCI131  SPRING 2019   \n",
      "1192                 26.0                30      CSCI131  SPRING 2019   \n",
      "1193                 29.0                30      CSCI131  SPRING 2019   \n",
      "1194                 21.0                22      CSCI134  SPRING 2019   \n",
      "1195                 51.0                52      CSCI140  SPRING 2019   \n",
      "1196                 18.0                20      CSCI140  SPRING 2019   \n",
      "1197                  8.0                20      CSCI140  SPRING 2019   \n",
      "1198                 25.0                25      CSCI140  SPRING 2019   \n",
      "1199                 15.0                18      CSCI143  SPRING 2019   \n",
      "1200                  4.0                16      CSCI144  SPRING 2019   \n",
      "1201                 34.0                35      CSCI151  SPRING 2019   \n",
      "1202                 31.0                35      CSCI151  SPRING 2019   \n",
      "1203                 16.0                25      CSCI155  SPRING 2019   \n",
      "1204                 26.0                25      CSCI155  SPRING 2019   \n",
      "1205                 30.0                30      CSCI158  SPRING 2019   \n",
      "1206                 23.0                25      CSCI159  SPRING 2019   \n",
      "1207                 14.0                18      CSCI181  SPRING 2019   \n",
      "1208                  4.0                18      CSCI181  SPRING 2019   \n",
      "1209                 17.0                24     CSCI181D  SPRING 2019   \n",
      "1210                  8.0                20     CSCI181Q  SPRING 2019   \n",
      "1211                 13.0                14     CSCI181R  SPRING 2019   \n",
      "1214                 70.0               100      CSCI189  SPRING 2019   \n",
      "1224                  2.0                15      CSCI192  SPRING 2019   \n",
      "1227                  1.0                15      CSCI192  SPRING 2019   \n",
      "1231                  2.0                15      CSCI192  SPRING 2019   \n",
      "1233                171.0               200      CSCI195  SPRING 2019   \n",
      "1234                 37.0                10      CSCI195  SPRING 2019   \n",
      "1236                 15.0                20     MCBI118A  SPRING 2019   \n",
      "1237                 17.0                20     MCBI118B  SPRING 2019   \n",
      "\n",
      "                                              professor  Percentage  \n",
      "0     \\n                                Dodds, Zacha...    0.444444  \n",
      "1     \\n                                Dodds, Zacha...    0.393939  \n",
      "2     \\n                                Thom, Belind...    0.393939  \n",
      "3     \\n                                Thom, Belind...    0.414141  \n",
      "4     \\n                                Dodds, Zacha...    0.407500  \n",
      "5     \\n                                Pinter-Lucke...    0.437500  \n",
      "6     \\n                                Chen, Tzu-Yi...    0.466667  \n",
      "7     \\n                                Chen, Tzu-Yi...    0.433333  \n",
      "8     \\n                                Bull, Everet...    0.333333  \n",
      "9     \\n                                Libeskind-Ha...    0.857143  \n",
      "10    \\n                                Libeskind-Ha...    0.833333  \n",
      "11    \\n                                Stone, Chris...    0.850000  \n",
      "12    \\n                                Stone, Chris...    0.550000  \n",
      "13    \\n                                Aaron, Eric ...    0.409091  \n",
      "14    \\n                                Erlinger, Mi...    0.850000  \n",
      "15    \\n                                Erlinger, Mi...    0.550000  \n",
      "16    \\n                                Erlinger, Mi...    0.950000  \n",
      "17    \\n                                Erlinger, Mi...    0.450000  \n",
      "18    \\n                                Sweedyk, Eli...    1.000000  \n",
      "19    \\n                                Erlinger, Mi...    0.650000  \n",
      "20    \\n                                Erlinger, Mi...    0.550000  \n",
      "21    \\n                                O'Neill, Mel...    0.450000  \n",
      "22    \\n                                O'Neill, Mel...    0.700000  \n",
      "23    \\n                                O'Neill, Mel...    0.485714  \n",
      "24    \\n                                O'Neill, Mel...    0.171429  \n",
      "25    \\n                                Thom, Belind...    0.833333  \n",
      "26    \\n                                Marshall, Ja...    0.666667  \n",
      "27    \\n                                Keller, Robe...    0.333333  \n",
      "28    \\n                                Sweedyk, Eli...    0.600000  \n",
      "29    \\n                                Sweedyk, Eli...    0.550000  \n",
      "...                                                 ...         ...  \n",
      "1190  \\n                                Papoutsaki, ...    0.958333  \n",
      "1191  \\n                                O'Neill, Mel...    0.900000  \n",
      "1192  \\n                                O'Neill, Mel...    0.866667  \n",
      "1193  \\n                                Bruce, Kim B...    0.966667  \n",
      "1194  \\n                                Rhodes, Neil...    0.954545  \n",
      "1195  \\n                                Libeskind-Ha...    0.980769  \n",
      "1196  \\n                                Pippenger, N...    0.900000  \n",
      "1197  \\n                                Pippenger, N...    0.400000  \n",
      "1198  \\n                                Devanny, Wil...    1.000000  \n",
      "1199  \\n                                Chen, Tzu-Yi...    0.833333  \n",
      "1200  \\n                                Nadim, Ali  ...    0.250000  \n",
      "1201  \\n                                Boerkoel, Ja...    0.971429  \n",
      "1202  \\n                                Boerkoel, Ja...    0.885714  \n",
      "1203  \\n                                Saleem, Waqa...    0.640000  \n",
      "1204  \\n                                Saleem, Waqa...    1.000000  \n",
      "1205  \\n                                Wu, Yi-Chieh...    1.000000  \n",
      "1206  \\n                                Kauchak, Dav...    0.920000  \n",
      "1207  \\n                                Naumov, Pave...    0.777778  \n",
      "1208  \\n                                Naumov, Pave...    0.222222  \n",
      "1209  \\n                                Libeskind-Ha...    0.708333  \n",
      "1210  \\n                                MacKay, Ande...    0.400000  \n",
      "1211  \\n                                Spezio, Mich...    0.928571  \n",
      "1214  \\n                                Stone, Chris...    0.700000  \n",
      "1224  \\n                                Birrell, Ele...    0.133333  \n",
      "1227  \\n                                Chen, Tzu-Yi...    0.066667  \n",
      "1231  \\n                                Papoutsaki, ...    0.133333  \n",
      "1233  \\n                                Libeskind-Ha...    0.855000  \n",
      "1234  \\n                                Libeskind-Ha...    1.000000  \n",
      "1236  \\n                                Adolph, Step...    0.750000  \n",
      "1237  \\n                                Donaldson-Ma...    0.850000  \n",
      "\n",
      "[1014 rows x 6 columns]\n"
     ]
    }
   ],
   "source": [
    "print(df_p)"
   ]
  },
  {
   "cell_type": "code",
   "execution_count": null,
   "metadata": {},
   "outputs": [],
   "source": []
  }
 ],
 "metadata": {
  "kernelspec": {
   "display_name": "Python 3",
   "language": "python",
   "name": "python3"
  },
  "language_info": {
   "codemirror_mode": {
    "name": "ipython",
    "version": 3
   },
   "file_extension": ".py",
   "mimetype": "text/x-python",
   "name": "python",
   "nbconvert_exporter": "python",
   "pygments_lexer": "ipython3",
   "version": "3.7.3"
  }
 },
 "nbformat": 4,
 "nbformat_minor": 2
}
